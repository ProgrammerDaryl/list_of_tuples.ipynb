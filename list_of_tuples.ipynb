{
 "cells": [
  {
   "cell_type": "code",
   "execution_count": 5,
   "metadata": {},
   "outputs": [
    {
     "name": "stdout",
     "output_type": "stream",
     "text": [
      "Result: ListOfTuple [(1, 'Karina'), (2, 'Ningning'), (3, 'Winter'), (4, 'Giselle')]\n"
     ]
    }
   ],
   "source": [
    "# create two lists\n",
    "list1 = [1, 2, 3, 4]\n",
    "list2 = [\"Karina\", \"Ningning\", \"Winter\", \"Giselle\"]\n",
    "\n",
    "# create an empty list\n",
    "list_of_tuple = []\n",
    "for item in range(min(len(list1), len(list2))):\n",
    "    list_of_tuple.append((list1[item], list2[item]))\n",
    "print(\"Result: ListOfTuple\", list_of_tuple)"
   ]
  }
 ],
 "metadata": {
  "kernelspec": {
   "display_name": "Python 3",
   "language": "python",
   "name": "python3"
  },
  "language_info": {
   "codemirror_mode": {
    "name": "ipython",
    "version": 3
   },
   "file_extension": ".py",
   "mimetype": "text/x-python",
   "name": "python",
   "nbconvert_exporter": "python",
   "pygments_lexer": "ipython3",
   "version": "3.11.9"
  }
 },
 "nbformat": 4,
 "nbformat_minor": 2
}
