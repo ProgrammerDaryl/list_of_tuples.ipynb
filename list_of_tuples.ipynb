{
 "cells": [
  {
   "cell_type": "code",
   "execution_count": null,
   "metadata": {},
   "outputs": [],
   "source": [
    "# create two lists\n",
    "list1 = [1, 2, 3, 4]\n",
    "list2 = [\"Karina\", \"Ningning\", \"Winter\", \"Giselle\"]\n"
   ]
  }
 ],
 "metadata": {
  "language_info": {
   "name": "python"
  }
 },
 "nbformat": 4,
 "nbformat_minor": 2
}
